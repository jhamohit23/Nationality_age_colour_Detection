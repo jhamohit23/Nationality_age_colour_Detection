{
 "cells": [
  {
   "cell_type": "code",
   "execution_count": 1,
   "id": "aa251456",
   "metadata": {},
   "outputs": [
    {
     "name": "stdout",
     "output_type": "stream",
     "text": [
      "True\n",
      "0\n",
      "NVIDIA GeForce RTX 3050 Laptop GPU\n"
     ]
    }
   ],
   "source": [
    "import torch\n",
    "print(torch.cuda.is_available())\n",
    "print(torch.cuda.current_device())\n",
    "print(torch.cuda.get_device_name(torch.cuda.current_device()))"
   ]
  },
  {
   "cell_type": "code",
   "execution_count": 2,
   "id": "6cb352ec",
   "metadata": {},
   "outputs": [],
   "source": [
    "# Import necessary libraries\n",
    "import os\n",
    "import pandas as pd\n",
    "import numpy as np\n",
    "import torch\n",
    "import torch.nn as nn\n",
    "import torch.optim as optim\n",
    "from torch.utils.data import Dataset, DataLoader\n",
    "from torchvision import transforms, models\n",
    "from PIL import Image\n",
    "import matplotlib.pyplot as plt\n",
    "from sklearn.preprocessing import LabelEncoder"
   ]
  },
  {
   "cell_type": "code",
   "execution_count": 3,
   "id": "04205c35",
   "metadata": {},
   "outputs": [],
   "source": [
    "# Set random seed for reproducibility\n",
    "torch.manual_seed(42)\n",
    "np.random.seed(42)"
   ]
  },
  {
   "cell_type": "code",
   "execution_count": 4,
   "id": "755d8298",
   "metadata": {},
   "outputs": [],
   "source": [
    "# Define constants\n",
    "IMG_SIZE = 224\n",
    "BATCH_SIZE = 32\n",
    "NUM_EPOCHS = 50\n",
    "LEARNING_RATE = 0.001"
   ]
  },
  {
   "cell_type": "code",
   "execution_count": 5,
   "id": "1eff7429",
   "metadata": {},
   "outputs": [],
   "source": [
    "device = torch.device('cuda' if torch.cuda.is_available() else 'cpu')"
   ]
  },
  {
   "cell_type": "code",
   "execution_count": 6,
   "id": "d069fe6f",
   "metadata": {},
   "outputs": [],
   "source": [
    "# Define the custom dataset class\n",
    "class CustomImageDataset(Dataset):\n",
    "    def __init__(self, csv_file, img_dir, transform=None):\n",
    "        self.data = pd.read_csv(csv_file)\n",
    "        self.img_dir = img_dir\n",
    "        self.transform = transform\n",
    "        \n",
    "        self.nationality_encoder = LabelEncoder()\n",
    "        self.emotion_encoder = LabelEncoder()\n",
    "        self.dress_color_encoder = LabelEncoder()\n",
    "        \n",
    "        self.data['nationality'] = self.nationality_encoder.fit_transform(self.data['nationality'])\n",
    "        self.data['emotion'] = self.emotion_encoder.fit_transform(self.data['emotion'])\n",
    "        self.data['dress_color'] = self.dress_color_encoder.fit_transform(self.data['dress_color'])\n",
    "\n",
    "    def __len__(self):\n",
    "        return len(self.data)\n",
    "\n",
    "    def __getitem__(self, idx):\n",
    "        img_path = os.path.join(self.img_dir, self.data.iloc[idx, 0])\n",
    "        image = Image.open(img_path).convert('RGB')\n",
    "        \n",
    "        nationality = self.data.iloc[idx, 1]\n",
    "        emotion = self.data.iloc[idx, 2]\n",
    "        age = self.data.iloc[idx, 3]\n",
    "        dress_color = self.data.iloc[idx, 4]\n",
    "        \n",
    "        if self.transform:\n",
    "            image = self.transform(image)\n",
    "        \n",
    "        return image, nationality, emotion, age, dress_color"
   ]
  },
  {
   "cell_type": "code",
   "execution_count": 7,
   "id": "5d07b90f",
   "metadata": {},
   "outputs": [],
   "source": [
    "# Define the model architecture\n",
    "class MultiTaskModel(nn.Module):\n",
    "    def __init__(self, num_nationalities, num_emotions, num_dress_colors):\n",
    "        super(MultiTaskModel, self).__init__()\n",
    "        self.base_model = models.resnet50(pretrained=True)\n",
    "        num_features = self.base_model.fc.in_features\n",
    "        self.base_model.fc = nn.Identity()\n",
    "        \n",
    "        self.nationality_head = nn.Linear(num_features, num_nationalities)\n",
    "        self.emotion_head = nn.Linear(num_features, num_emotions)\n",
    "        self.age_head = nn.Linear(num_features, 1)\n",
    "        self.dress_color_head = nn.Linear(num_features, num_dress_colors)\n",
    "        \n",
    "    def forward(self, x):\n",
    "        features = self.base_model(x)\n",
    "        nationality = self.nationality_head(features)\n",
    "        emotion = self.emotion_head(features)\n",
    "        age = self.age_head(features)\n",
    "        dress_color = self.dress_color_head(features)\n",
    "        return nationality, emotion, age, dress_color"
   ]
  },
  {
   "cell_type": "code",
   "execution_count": 8,
   "id": "cd82874b",
   "metadata": {},
   "outputs": [],
   "source": [
    "# Data loading and preprocessing\n",
    "transform = transforms.Compose([\n",
    "    transforms.Resize((IMG_SIZE, IMG_SIZE)),\n",
    "    transforms.ToTensor(),\n",
    "    transforms.Normalize(mean=[0.485, 0.456, 0.406], std=[0.229, 0.224, 0.225])\n",
    "])\n",
    "\n",
    "dataset = CustomImageDataset(csv_file='custom_dataset_annotations.csv', img_dir='custom_dataset', transform=transform)\n",
    "train_dataset, val_dataset = torch.utils.data.random_split(dataset, [int(0.8*len(dataset)), len(dataset)-int(0.8*len(dataset))])\n",
    "\n",
    "train_loader = DataLoader(train_dataset, batch_size=BATCH_SIZE, shuffle=True, num_workers=4, pin_memory=True)\n",
    "val_loader = DataLoader(val_dataset, batch_size=BATCH_SIZE, shuffle=False, num_workers=4, pin_memory=True)\n"
   ]
  },
  {
   "cell_type": "code",
   "execution_count": 9,
   "id": "457caae3",
   "metadata": {},
   "outputs": [
    {
     "name": "stderr",
     "output_type": "stream",
     "text": [
      "C:\\Users\\Dell\\AppData\\Local\\Programs\\Python\\Python311\\Lib\\site-packages\\torchvision\\models\\_utils.py:208: UserWarning: The parameter 'pretrained' is deprecated since 0.13 and may be removed in the future, please use 'weights' instead.\n",
      "  warnings.warn(\n",
      "C:\\Users\\Dell\\AppData\\Local\\Programs\\Python\\Python311\\Lib\\site-packages\\torchvision\\models\\_utils.py:223: UserWarning: Arguments other than a weight enum or `None` for 'weights' are deprecated since 0.13 and may be removed in the future. The current behavior is equivalent to passing `weights=ResNet50_Weights.IMAGENET1K_V1`. You can also use `weights=ResNet50_Weights.DEFAULT` to get the most up-to-date weights.\n",
      "  warnings.warn(msg)\n"
     ]
    }
   ],
   "source": [
    "# Initialize the model\n",
    "num_nationalities = len(dataset.nationality_encoder.classes_)\n",
    "num_emotions = len(dataset.emotion_encoder.classes_)\n",
    "num_dress_colors = len(dataset.dress_color_encoder.classes_)\n",
    "\n",
    "model = MultiTaskModel(num_nationalities, num_emotions, num_dress_colors)\n",
    "model = model.to(device)"
   ]
  },
  {
   "cell_type": "code",
   "execution_count": 10,
   "id": "43976226",
   "metadata": {},
   "outputs": [],
   "source": [
    "# Define loss functions and optimizer\n",
    "nationality_criterion = nn.CrossEntropyLoss()\n",
    "emotion_criterion = nn.CrossEntropyLoss()\n",
    "age_criterion = nn.MSELoss()\n",
    "dress_color_criterion = nn.CrossEntropyLoss()\n",
    "\n",
    "optimizer = optim.Adam(model.parameters(), lr=LEARNING_RATE)"
   ]
  },
  {
   "cell_type": "code",
   "execution_count": null,
   "id": "9c0f26b4",
   "metadata": {},
   "outputs": [],
   "source": []
  },
  {
   "cell_type": "code",
   "execution_count": null,
   "id": "f694e382",
   "metadata": {},
   "outputs": [],
   "source": []
  }
 ],
 "metadata": {
  "kernelspec": {
   "display_name": "Python 3 (ipykernel)",
   "language": "python",
   "name": "python3"
  },
  "language_info": {
   "codemirror_mode": {
    "name": "ipython",
    "version": 3
   },
   "file_extension": ".py",
   "mimetype": "text/x-python",
   "name": "python",
   "nbconvert_exporter": "python",
   "pygments_lexer": "ipython3",
   "version": "3.11.4"
  }
 },
 "nbformat": 4,
 "nbformat_minor": 5
}
